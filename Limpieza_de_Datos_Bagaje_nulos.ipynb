{
  "nbformat": 4,
  "nbformat_minor": 0,
  "metadata": {
    "colab": {
      "provenance": [],
      "authorship_tag": "ABX9TyONQBStcb9/fi9C+lNZlQMU",
      "include_colab_link": true
    },
    "kernelspec": {
      "name": "python3",
      "display_name": "Python 3"
    },
    "language_info": {
      "name": "python"
    }
  },
  "cells": [
    {
      "cell_type": "markdown",
      "metadata": {
        "id": "view-in-github",
        "colab_type": "text"
      },
      "source": [
        "<a href=\"https://colab.research.google.com/github/zandrev099/Lab_IH/blob/main/Limpieza_de_Datos_Bagaje_nulos.ipynb\" target=\"_parent\"><img src=\"https://colab.research.google.com/assets/colab-badge.svg\" alt=\"Open In Colab\"/></a>"
      ]
    },
    {
      "cell_type": "code",
      "source": [
        "#Data cleaning\n",
        "import pandas as pd\n",
        "\n",
        "file1=pd.read_csv('file1.txt')\n",
        "file2=pd.read_csv('file2(1).txt', sep = '\\t')\n",
        "file3=pd.read_excel('file3.xlsx')\n",
        "file4=pd.read_excel('file4.xlsx')\n",
        "column_names=file1.columns\n",
        "data=pd.DataFrame(columns=column_names)\n",
        "data=pd.concat([file1,file2,file3,file4], axis=0)\n",
        "data\n"
      ],
      "metadata": {
        "id": "x_d2ofwxH-MZ"
      },
      "execution_count": null,
      "outputs": []
    },
    {
      "cell_type": "code",
      "source": [
        "sum(data[\"GENDER\"].isnull())"
      ],
      "metadata": {
        "id": "jnaMZWS9Jn_L"
      },
      "execution_count": null,
      "outputs": []
    },
    {
      "cell_type": "code",
      "source": [
        "len(data[\"GENDER\"])"
      ],
      "metadata": {
        "id": "QG-SQcqvJsdK"
      },
      "execution_count": null,
      "outputs": []
    },
    {
      "cell_type": "code",
      "source": [
        "print(\"El % de valores faltantes de la columna GENDER es el\", 100*sum(data[\"GENDER\"].isnull())/len(data[\"GENDER\"]),\"%\")"
      ],
      "metadata": {
        "id": "5heO7D3uJwAy"
      },
      "execution_count": null,
      "outputs": []
    },
    {
      "cell_type": "code",
      "source": [
        "for i in data.columns:\n",
        "  print(\"El % de valores faltantes de la columna\", i, \"es el\", 100*sum(data[i].isnull()) / len(data[i]), \"%\")"
      ],
      "metadata": {
        "id": "duhYxa7FK_ce"
      },
      "execution_count": null,
      "outputs": []
    },
    {
      "cell_type": "code",
      "source": [
        "print(\"Nulos\")\n",
        "for i in data.columns:\n",
        "  print(i, 100*sum(data[i].isnull()) / len(data[i]), \"%\")"
      ],
      "metadata": {
        "id": "t0h1yS-KKHeZ"
      },
      "execution_count": null,
      "outputs": []
    },
    {
      "cell_type": "code",
      "source": [
        "#vamos a suponer que \"muchos nulos\" es mayor al 3%\n",
        "columnas_drop=[]\n",
        "for i in data.columns:\n",
        "  if(100*sum(data[i].isnull()) / len(data[i]) >= 3):\n",
        "    columnas_drop.append(i)\n",
        "data=data.drop(columnas_drop, axis=1)"
      ],
      "metadata": {
        "id": "Nwgd0X4kK1sd"
      },
      "execution_count": null,
      "outputs": []
    },
    {
      "cell_type": "code",
      "source": [
        "data"
      ],
      "metadata": {
        "colab": {
          "base_uri": "https://localhost:8080/",
          "height": 424
        },
        "id": "ALBGqecuMPDz",
        "outputId": "c1abc99d-f0e8-4313-a501-0e64a820502b"
      },
      "execution_count": null,
      "outputs": [
        {
          "output_type": "execute_result",
          "data": {
            "text/plain": [
              "      CONTROLN STATE      HV1  IC1    IC4  HVP1    IC5  POBC1  POBC2    IC2  \\\n",
              "0        44060    FL   AAA896  392  520.0     7  21975      6     16  430.0   \n",
              "1        96093    IL   537.00  365  473.0     0  19387      1     89  415.0   \n",
              "2        43333    FL   725.00  301  436.0     3  18837     11     17  340.0   \n",
              "3        21885    NC  AAA1095  401  413.0     7  14014      1     74  407.0   \n",
              "4       190108    FL   995.00  252  348.0     0  17991      5      6  280.0   \n",
              "...        ...   ...      ...  ...    ...   ...    ...    ...    ...    ...   \n",
              "1001     41537    FL      742  396  470.0     0  15356      7     37  424.0   \n",
              "1002      4881    FL      599  100  423.0     4  11670     10     27  406.0   \n",
              "1003     66358    ND      593  258  299.0     0  10186      1     70  298.0   \n",
              "1004      2231    WI      564  217  397.0     0  12315      0     96  386.0   \n",
              "1005     68534    MI      651  431  505.0     0  14845      7     77  451.0   \n",
              "\n",
              "      IC3    AVGGIFT  TCODE   DOB DOMAIN  TARGET_D  \n",
              "0     466  28.000000      1  1901     C2     100.0  \n",
              "1     410   5.666667      0     0     T2       7.0  \n",
              "2     361   4.111111      0  2501     C2       5.0  \n",
              "3     399  27.277778      0  2208     T2      38.0  \n",
              "4     316   6.000000     28     0     C2       5.0  \n",
              "...   ...        ...    ...   ...    ...       ...  \n",
              "1001  450  14.285714      2  6101     S2      50.0  \n",
              "1002  200   9.230769     28  7401     C1      10.0  \n",
              "1003  274   5.266667      1  3301     S2       5.0  \n",
              "1004  295  11.400000      1  7301     T2      14.0  \n",
              "1005  455   7.428571      1  1709     S2       9.0  \n",
              "\n",
              "[4028 rows x 16 columns]"
            ],
            "text/html": [
              "\n",
              "  <div id=\"df-31c413eb-c6c4-4136-8251-7d230bce124e\">\n",
              "    <div class=\"colab-df-container\">\n",
              "      <div>\n",
              "<style scoped>\n",
              "    .dataframe tbody tr th:only-of-type {\n",
              "        vertical-align: middle;\n",
              "    }\n",
              "\n",
              "    .dataframe tbody tr th {\n",
              "        vertical-align: top;\n",
              "    }\n",
              "\n",
              "    .dataframe thead th {\n",
              "        text-align: right;\n",
              "    }\n",
              "</style>\n",
              "<table border=\"1\" class=\"dataframe\">\n",
              "  <thead>\n",
              "    <tr style=\"text-align: right;\">\n",
              "      <th></th>\n",
              "      <th>CONTROLN</th>\n",
              "      <th>STATE</th>\n",
              "      <th>HV1</th>\n",
              "      <th>IC1</th>\n",
              "      <th>IC4</th>\n",
              "      <th>HVP1</th>\n",
              "      <th>IC5</th>\n",
              "      <th>POBC1</th>\n",
              "      <th>POBC2</th>\n",
              "      <th>IC2</th>\n",
              "      <th>IC3</th>\n",
              "      <th>AVGGIFT</th>\n",
              "      <th>TCODE</th>\n",
              "      <th>DOB</th>\n",
              "      <th>DOMAIN</th>\n",
              "      <th>TARGET_D</th>\n",
              "    </tr>\n",
              "  </thead>\n",
              "  <tbody>\n",
              "    <tr>\n",
              "      <th>0</th>\n",
              "      <td>44060</td>\n",
              "      <td>FL</td>\n",
              "      <td>AAA896</td>\n",
              "      <td>392</td>\n",
              "      <td>520.0</td>\n",
              "      <td>7</td>\n",
              "      <td>21975</td>\n",
              "      <td>6</td>\n",
              "      <td>16</td>\n",
              "      <td>430.0</td>\n",
              "      <td>466</td>\n",
              "      <td>28.000000</td>\n",
              "      <td>1</td>\n",
              "      <td>1901</td>\n",
              "      <td>C2</td>\n",
              "      <td>100.0</td>\n",
              "    </tr>\n",
              "    <tr>\n",
              "      <th>1</th>\n",
              "      <td>96093</td>\n",
              "      <td>IL</td>\n",
              "      <td>537.00</td>\n",
              "      <td>365</td>\n",
              "      <td>473.0</td>\n",
              "      <td>0</td>\n",
              "      <td>19387</td>\n",
              "      <td>1</td>\n",
              "      <td>89</td>\n",
              "      <td>415.0</td>\n",
              "      <td>410</td>\n",
              "      <td>5.666667</td>\n",
              "      <td>0</td>\n",
              "      <td>0</td>\n",
              "      <td>T2</td>\n",
              "      <td>7.0</td>\n",
              "    </tr>\n",
              "    <tr>\n",
              "      <th>2</th>\n",
              "      <td>43333</td>\n",
              "      <td>FL</td>\n",
              "      <td>725.00</td>\n",
              "      <td>301</td>\n",
              "      <td>436.0</td>\n",
              "      <td>3</td>\n",
              "      <td>18837</td>\n",
              "      <td>11</td>\n",
              "      <td>17</td>\n",
              "      <td>340.0</td>\n",
              "      <td>361</td>\n",
              "      <td>4.111111</td>\n",
              "      <td>0</td>\n",
              "      <td>2501</td>\n",
              "      <td>C2</td>\n",
              "      <td>5.0</td>\n",
              "    </tr>\n",
              "    <tr>\n",
              "      <th>3</th>\n",
              "      <td>21885</td>\n",
              "      <td>NC</td>\n",
              "      <td>AAA1095</td>\n",
              "      <td>401</td>\n",
              "      <td>413.0</td>\n",
              "      <td>7</td>\n",
              "      <td>14014</td>\n",
              "      <td>1</td>\n",
              "      <td>74</td>\n",
              "      <td>407.0</td>\n",
              "      <td>399</td>\n",
              "      <td>27.277778</td>\n",
              "      <td>0</td>\n",
              "      <td>2208</td>\n",
              "      <td>T2</td>\n",
              "      <td>38.0</td>\n",
              "    </tr>\n",
              "    <tr>\n",
              "      <th>4</th>\n",
              "      <td>190108</td>\n",
              "      <td>FL</td>\n",
              "      <td>995.00</td>\n",
              "      <td>252</td>\n",
              "      <td>348.0</td>\n",
              "      <td>0</td>\n",
              "      <td>17991</td>\n",
              "      <td>5</td>\n",
              "      <td>6</td>\n",
              "      <td>280.0</td>\n",
              "      <td>316</td>\n",
              "      <td>6.000000</td>\n",
              "      <td>28</td>\n",
              "      <td>0</td>\n",
              "      <td>C2</td>\n",
              "      <td>5.0</td>\n",
              "    </tr>\n",
              "    <tr>\n",
              "      <th>...</th>\n",
              "      <td>...</td>\n",
              "      <td>...</td>\n",
              "      <td>...</td>\n",
              "      <td>...</td>\n",
              "      <td>...</td>\n",
              "      <td>...</td>\n",
              "      <td>...</td>\n",
              "      <td>...</td>\n",
              "      <td>...</td>\n",
              "      <td>...</td>\n",
              "      <td>...</td>\n",
              "      <td>...</td>\n",
              "      <td>...</td>\n",
              "      <td>...</td>\n",
              "      <td>...</td>\n",
              "      <td>...</td>\n",
              "    </tr>\n",
              "    <tr>\n",
              "      <th>1001</th>\n",
              "      <td>41537</td>\n",
              "      <td>FL</td>\n",
              "      <td>742</td>\n",
              "      <td>396</td>\n",
              "      <td>470.0</td>\n",
              "      <td>0</td>\n",
              "      <td>15356</td>\n",
              "      <td>7</td>\n",
              "      <td>37</td>\n",
              "      <td>424.0</td>\n",
              "      <td>450</td>\n",
              "      <td>14.285714</td>\n",
              "      <td>2</td>\n",
              "      <td>6101</td>\n",
              "      <td>S2</td>\n",
              "      <td>50.0</td>\n",
              "    </tr>\n",
              "    <tr>\n",
              "      <th>1002</th>\n",
              "      <td>4881</td>\n",
              "      <td>FL</td>\n",
              "      <td>599</td>\n",
              "      <td>100</td>\n",
              "      <td>423.0</td>\n",
              "      <td>4</td>\n",
              "      <td>11670</td>\n",
              "      <td>10</td>\n",
              "      <td>27</td>\n",
              "      <td>406.0</td>\n",
              "      <td>200</td>\n",
              "      <td>9.230769</td>\n",
              "      <td>28</td>\n",
              "      <td>7401</td>\n",
              "      <td>C1</td>\n",
              "      <td>10.0</td>\n",
              "    </tr>\n",
              "    <tr>\n",
              "      <th>1003</th>\n",
              "      <td>66358</td>\n",
              "      <td>ND</td>\n",
              "      <td>593</td>\n",
              "      <td>258</td>\n",
              "      <td>299.0</td>\n",
              "      <td>0</td>\n",
              "      <td>10186</td>\n",
              "      <td>1</td>\n",
              "      <td>70</td>\n",
              "      <td>298.0</td>\n",
              "      <td>274</td>\n",
              "      <td>5.266667</td>\n",
              "      <td>1</td>\n",
              "      <td>3301</td>\n",
              "      <td>S2</td>\n",
              "      <td>5.0</td>\n",
              "    </tr>\n",
              "    <tr>\n",
              "      <th>1004</th>\n",
              "      <td>2231</td>\n",
              "      <td>WI</td>\n",
              "      <td>564</td>\n",
              "      <td>217</td>\n",
              "      <td>397.0</td>\n",
              "      <td>0</td>\n",
              "      <td>12315</td>\n",
              "      <td>0</td>\n",
              "      <td>96</td>\n",
              "      <td>386.0</td>\n",
              "      <td>295</td>\n",
              "      <td>11.400000</td>\n",
              "      <td>1</td>\n",
              "      <td>7301</td>\n",
              "      <td>T2</td>\n",
              "      <td>14.0</td>\n",
              "    </tr>\n",
              "    <tr>\n",
              "      <th>1005</th>\n",
              "      <td>68534</td>\n",
              "      <td>MI</td>\n",
              "      <td>651</td>\n",
              "      <td>431</td>\n",
              "      <td>505.0</td>\n",
              "      <td>0</td>\n",
              "      <td>14845</td>\n",
              "      <td>7</td>\n",
              "      <td>77</td>\n",
              "      <td>451.0</td>\n",
              "      <td>455</td>\n",
              "      <td>7.428571</td>\n",
              "      <td>1</td>\n",
              "      <td>1709</td>\n",
              "      <td>S2</td>\n",
              "      <td>9.0</td>\n",
              "    </tr>\n",
              "  </tbody>\n",
              "</table>\n",
              "<p>4028 rows × 16 columns</p>\n",
              "</div>\n",
              "      <button class=\"colab-df-convert\" onclick=\"convertToInteractive('df-31c413eb-c6c4-4136-8251-7d230bce124e')\"\n",
              "              title=\"Convert this dataframe to an interactive table.\"\n",
              "              style=\"display:none;\">\n",
              "        \n",
              "  <svg xmlns=\"http://www.w3.org/2000/svg\" height=\"24px\"viewBox=\"0 0 24 24\"\n",
              "       width=\"24px\">\n",
              "    <path d=\"M0 0h24v24H0V0z\" fill=\"none\"/>\n",
              "    <path d=\"M18.56 5.44l.94 2.06.94-2.06 2.06-.94-2.06-.94-.94-2.06-.94 2.06-2.06.94zm-11 1L8.5 8.5l.94-2.06 2.06-.94-2.06-.94L8.5 2.5l-.94 2.06-2.06.94zm10 10l.94 2.06.94-2.06 2.06-.94-2.06-.94-.94-2.06-.94 2.06-2.06.94z\"/><path d=\"M17.41 7.96l-1.37-1.37c-.4-.4-.92-.59-1.43-.59-.52 0-1.04.2-1.43.59L10.3 9.45l-7.72 7.72c-.78.78-.78 2.05 0 2.83L4 21.41c.39.39.9.59 1.41.59.51 0 1.02-.2 1.41-.59l7.78-7.78 2.81-2.81c.8-.78.8-2.07 0-2.86zM5.41 20L4 18.59l7.72-7.72 1.47 1.35L5.41 20z\"/>\n",
              "  </svg>\n",
              "      </button>\n",
              "      \n",
              "  <style>\n",
              "    .colab-df-container {\n",
              "      display:flex;\n",
              "      flex-wrap:wrap;\n",
              "      gap: 12px;\n",
              "    }\n",
              "\n",
              "    .colab-df-convert {\n",
              "      background-color: #E8F0FE;\n",
              "      border: none;\n",
              "      border-radius: 50%;\n",
              "      cursor: pointer;\n",
              "      display: none;\n",
              "      fill: #1967D2;\n",
              "      height: 32px;\n",
              "      padding: 0 0 0 0;\n",
              "      width: 32px;\n",
              "    }\n",
              "\n",
              "    .colab-df-convert:hover {\n",
              "      background-color: #E2EBFA;\n",
              "      box-shadow: 0px 1px 2px rgba(60, 64, 67, 0.3), 0px 1px 3px 1px rgba(60, 64, 67, 0.15);\n",
              "      fill: #174EA6;\n",
              "    }\n",
              "\n",
              "    [theme=dark] .colab-df-convert {\n",
              "      background-color: #3B4455;\n",
              "      fill: #D2E3FC;\n",
              "    }\n",
              "\n",
              "    [theme=dark] .colab-df-convert:hover {\n",
              "      background-color: #434B5C;\n",
              "      box-shadow: 0px 1px 3px 1px rgba(0, 0, 0, 0.15);\n",
              "      filter: drop-shadow(0px 1px 2px rgba(0, 0, 0, 0.3));\n",
              "      fill: #FFFFFF;\n",
              "    }\n",
              "  </style>\n",
              "\n",
              "      <script>\n",
              "        const buttonEl =\n",
              "          document.querySelector('#df-31c413eb-c6c4-4136-8251-7d230bce124e button.colab-df-convert');\n",
              "        buttonEl.style.display =\n",
              "          google.colab.kernel.accessAllowed ? 'block' : 'none';\n",
              "\n",
              "        async function convertToInteractive(key) {\n",
              "          const element = document.querySelector('#df-31c413eb-c6c4-4136-8251-7d230bce124e');\n",
              "          const dataTable =\n",
              "            await google.colab.kernel.invokeFunction('convertToInteractive',\n",
              "                                                     [key], {});\n",
              "          if (!dataTable) return;\n",
              "\n",
              "          const docLinkHtml = 'Like what you see? Visit the ' +\n",
              "            '<a target=\"_blank\" href=https://colab.research.google.com/notebooks/data_table.ipynb>data table notebook</a>'\n",
              "            + ' to learn more about interactive tables.';\n",
              "          element.innerHTML = '';\n",
              "          dataTable['output_type'] = 'display_data';\n",
              "          await google.colab.output.renderOutput(dataTable, element);\n",
              "          const docLink = document.createElement('div');\n",
              "          docLink.innerHTML = docLinkHtml;\n",
              "          element.appendChild(docLink);\n",
              "        }\n",
              "      </script>\n",
              "    </div>\n",
              "  </div>\n",
              "  "
            ]
          },
          "metadata": {},
          "execution_count": 150
        }
      ]
    },
    {
      "cell_type": "markdown",
      "source": [
        "---"
      ],
      "metadata": {
        "id": "OtuxSNMuTcdz"
      }
    },
    {
      "cell_type": "code",
      "source": [
        "import numpy as np"
      ],
      "metadata": {
        "id": "ZA0EpnflNEso"
      },
      "execution_count": null,
      "outputs": []
    },
    {
      "cell_type": "code",
      "source": [
        "#calcular promedio de columna\n",
        "ic4_mean=np.mean(data['IC4'])\n",
        "#data['IC4']=data['IC4'].fillna(ic4_mean)  sirve para rellenar NA con el promedio en este caso\n",
        "#data['GENDER']=data['GENDER'].fillna(\"F\")  en este caso se rellenaria GENDER con la F(para categoricas)"
      ],
      "metadata": {
        "id": "PQQr2nGbSzMt"
      },
      "execution_count": null,
      "outputs": []
    },
    {
      "cell_type": "code",
      "source": [
        "# Ya que la base de datos esta limpia, estadarizada y concatenada\n",
        "# Lo exporto de esta manera\n",
        "data.to_csv('data_limpia.csv')\n",
        "# y ya despues lo descargas desde aqui mismo collan, la parte de archivos"
      ],
      "metadata": {
        "id": "4Jk5jyrrt4X3"
      },
      "execution_count": null,
      "outputs": []
    },
    {
      "cell_type": "markdown",
      "source": [
        "---"
      ],
      "metadata": {
        "id": "Ha5UCstwVjti"
      }
    },
    {
      "cell_type": "markdown",
      "source": [
        "# Funciones Lambda"
      ],
      "metadata": {
        "id": "0HjYY0B3xDJ0"
      }
    },
    {
      "cell_type": "code",
      "source": [
        "suma_2 = lambda a, b: a+b"
      ],
      "metadata": {
        "id": "uKEWTw0ErV9z"
      },
      "execution_count": null,
      "outputs": []
    },
    {
      "cell_type": "code",
      "source": [
        "suma_2(3,4)"
      ],
      "metadata": {
        "id": "DSS7x6Ssw5uR"
      },
      "execution_count": null,
      "outputs": []
    },
    {
      "cell_type": "code",
      "source": [
        "# Una función que suma dos número pero si no se da el segundo , que lo tome como 8\n",
        "def suma_3(a,b=8):\n",
        "  return a+b"
      ],
      "metadata": {
        "id": "LN9Rv-PyxAff"
      },
      "execution_count": null,
      "outputs": []
    },
    {
      "cell_type": "code",
      "source": [
        "suma_3(-12)"
      ],
      "metadata": {
        "id": "R17ewNQlxpNj"
      },
      "execution_count": null,
      "outputs": []
    },
    {
      "cell_type": "code",
      "source": [
        "suma_3(b=3,a=0)"
      ],
      "metadata": {
        "id": "CV6c0g_DyJ9w"
      },
      "execution_count": null,
      "outputs": []
    },
    {
      "cell_type": "code",
      "source": [
        "#pandas.to_numeric(data[123],downcast=\"str\")"
      ],
      "metadata": {
        "id": "WwljyR28yzVo"
      },
      "execution_count": null,
      "outputs": []
    },
    {
      "cell_type": "code",
      "source": [
        "suma_2 = lambda a,b=8 : a+b"
      ],
      "metadata": {
        "id": "logy8RcQy6la"
      },
      "execution_count": null,
      "outputs": []
    },
    {
      "cell_type": "code",
      "source": [
        "suma_2(3)"
      ],
      "metadata": {
        "id": "DfHly88wzBwz"
      },
      "execution_count": null,
      "outputs": []
    },
    {
      "cell_type": "code",
      "source": [
        "# Quiero hace una función que desde una lista de palabras, si la palabra tiene una letra 'o', que ponga 'tiene_o',\n",
        "# lo mismo con la letra e, y si no tiene ni e ni o, que ponga, \"no tiene ni e ni o\"\n",
        "['hola', 'venga', 'aqui', 'cohete'] --->>> ['tiene o','tiene e', 'no tiene ni e ni o','tiene o']"
      ],
      "metadata": {
        "id": "fhFG1AlI1sfw"
      },
      "execution_count": null,
      "outputs": []
    },
    {
      "cell_type": "code",
      "source": [
        "lista_nombres=['hola', 'venga', 'aqui', 'cohete']\n",
        "def funcion1(lista):\n",
        "  resultados=[]\n",
        "  for i in lista:\n",
        "    if 'o' in i:\n",
        "      resultados.append('tiene o')\n",
        "    elif 'e' in i:\n",
        "      resultados.append('tiene e')\n",
        "    else:\n",
        "      resultados.append('no tiene o ni e')\n",
        "  return resultados\n"
      ],
      "metadata": {
        "id": "2pTgfccF2YwB"
      },
      "execution_count": null,
      "outputs": []
    },
    {
      "cell_type": "code",
      "source": [
        "funcion1(lista_nombres)"
      ],
      "metadata": {
        "id": "S1C8xWjr2soE"
      },
      "execution_count": null,
      "outputs": []
    },
    {
      "cell_type": "markdown",
      "source": [
        "------'"
      ],
      "metadata": {
        "id": "mnyCWlIA50lg"
      }
    },
    {
      "cell_type": "code",
      "source": [
        "funcion1('hola', 'venga', 'aqui', 'cohete')"
      ],
      "metadata": {
        "id": "XkX4cM9s5h-l"
      },
      "execution_count": null,
      "outputs": []
    },
    {
      "cell_type": "code",
      "source": [
        "def funcion1(*args):\n",
        "  resultados=[]\n",
        "  for i in args:\n",
        "    if 'o' in i:\n",
        "      resultados.append('tiene o')\n",
        "    elif 'e' in i:\n",
        "      resultados.append('tiene e')\n",
        "    else:\n",
        "      resultados.append('no tiene o ni e')\n",
        "  return resultados"
      ],
      "metadata": {
        "id": "GI8QDKvU5bzX"
      },
      "execution_count": null,
      "outputs": []
    },
    {
      "cell_type": "code",
      "source": [
        "funcion1('hola', 'venga', 'aqui', 'cohete')"
      ],
      "metadata": {
        "id": "D2g8eBVT5vth"
      },
      "execution_count": null,
      "outputs": []
    },
    {
      "cell_type": "code",
      "source": [
        "#meter todo la funcion anterior en un solo renglon\n",
        "# el ciclo van en el final"
      ],
      "metadata": {
        "id": "pc_me_y-6JF-"
      },
      "execution_count": null,
      "outputs": []
    },
    {
      "cell_type": "code",
      "source": [
        "(lambda *args: ['tiene o' if 'o' in i else('tiene e' if 'e' in i else 'no tiene o ni e')   for i in args  ])('hola', 'venga', 'aqui', 'cohete')"
      ],
      "metadata": {
        "id": "Ck94g69O6OPZ"
      },
      "execution_count": null,
      "outputs": []
    },
    {
      "cell_type": "code",
      "source": [
        "funcion2=lambda *args: ['tiene o' if 'o' in i else('tiene e' if 'e' in i else 'no tiene o ni e')   for i in args  ]"
      ],
      "metadata": {
        "id": "fO_qQ5Qd77WE"
      },
      "execution_count": null,
      "outputs": []
    },
    {
      "cell_type": "code",
      "source": [
        "funcion2 ('hola', 'venga', 'aqui', 'cohete')"
      ],
      "metadata": {
        "id": "hgCfCPVH8AWG"
      },
      "execution_count": null,
      "outputs": []
    },
    {
      "cell_type": "markdown",
      "source": [
        "---"
      ],
      "metadata": {
        "id": "lAEKQc9M_yN2"
      }
    },
    {
      "cell_type": "markdown",
      "source": [
        "# Mapeo"
      ],
      "metadata": {
        "id": "MYuIOKgoxHA8"
      }
    },
    {
      "cell_type": "code",
      "source": [
        "columna=pd.Series(['lasagna','chilaquiles', 'pastel', 'bolillos'])"
      ],
      "metadata": {
        "id": "w_n3ECUR_ST0"
      },
      "execution_count": null,
      "outputs": []
    },
    {
      "cell_type": "code",
      "source": [
        "columna"
      ],
      "metadata": {
        "id": "p7saL5hD_vEq"
      },
      "execution_count": null,
      "outputs": []
    },
    {
      "cell_type": "code",
      "source": [
        "for i in columna:print(i)"
      ],
      "metadata": {
        "id": "hweU0nSX_094"
      },
      "execution_count": null,
      "outputs": []
    },
    {
      "cell_type": "code",
      "source": [
        "# Map sirve para tomar elemento a elemento de una lista, columna en este caso (en lugar de hacer un ciclo)\n",
        "columna.map"
      ],
      "metadata": {
        "id": "vyM59j5q_5BT"
      },
      "execution_count": null,
      "outputs": []
    },
    {
      "cell_type": "markdown",
      "source": [
        "----'"
      ],
      "metadata": {
        "id": "u26irybvBy9T"
      }
    },
    {
      "cell_type": "code",
      "source": [
        "technologies= {\n",
        "    'Fee' :[22000,25000,23000,23000,26000],\n",
        "    'Duration':['30days','50days','30days','35days','40days']\n",
        "          }"
      ],
      "metadata": {
        "id": "LuqGdCrmSzRl"
      },
      "execution_count": null,
      "outputs": []
    },
    {
      "cell_type": "code",
      "source": [
        "type(technologies)"
      ],
      "metadata": {
        "id": "cDuHpWbuSzTp"
      },
      "execution_count": null,
      "outputs": []
    },
    {
      "cell_type": "code",
      "source": [
        "data2=pd.DataFrame(technologies)"
      ],
      "metadata": {
        "id": "ruvNvBsASzVw"
      },
      "execution_count": null,
      "outputs": []
    },
    {
      "cell_type": "code",
      "source": [
        "type(data2)"
      ],
      "metadata": {
        "id": "I1OeYKiUSzXk"
      },
      "execution_count": null,
      "outputs": []
    },
    {
      "cell_type": "code",
      "source": [
        "data2"
      ],
      "metadata": {
        "id": "nEyPhOXsBtpF"
      },
      "execution_count": null,
      "outputs": []
    },
    {
      "cell_type": "code",
      "source": [
        "# 10% de descuento al Fee\n",
        "for i in range(len(data2[\"Fee\"])):\n",
        "  print(data2[\"Fee\"][i]-(data2[\"Fee\"][i]*10)/100)"
      ],
      "metadata": {
        "id": "uDScb8yMBuPD"
      },
      "execution_count": null,
      "outputs": []
    },
    {
      "cell_type": "code",
      "source": [
        "#Usando MAP (se ocupa en lugar de los ciclos)\n",
        "data2[\"Fee\"].map(lambda x : x-x*10/100)"
      ],
      "metadata": {
        "id": "-ff-dUMXBuRV"
      },
      "execution_count": null,
      "outputs": []
    },
    {
      "cell_type": "code",
      "source": [
        "#10% de descuento en los primeros dos\n",
        "data2[\"Fee\"][0:2].map(lambda x : x-x*10/100)"
      ],
      "metadata": {
        "id": "tMaVbmP6BuTY"
      },
      "execution_count": null,
      "outputs": []
    },
    {
      "cell_type": "code",
      "source": [
        "#para ver que elementos tienen duración de 30 días\n",
        "data2['Duration'].map(lambda x:1 if x== '30days' else 0)"
      ],
      "metadata": {
        "id": "0e2hndxTBuU-"
      },
      "execution_count": null,
      "outputs": []
    },
    {
      "cell_type": "code",
      "source": [
        "#Sirve para poner en mayusculas toda la columna\n",
        "data2['Duration'].map(lambda x: x.upper())"
      ],
      "metadata": {
        "id": "vZYTfbutSzZq"
      },
      "execution_count": null,
      "outputs": []
    }
  ]
}